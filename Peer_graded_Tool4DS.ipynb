{
  "metadata": {
    "language_info": {
      "codemirror_mode": {
        "name": "python",
        "version": 3
      },
      "file_extension": ".py",
      "mimetype": "text/x-python",
      "name": "python",
      "nbconvert_exporter": "python",
      "pygments_lexer": "ipython3",
      "version": "3.8"
    },
    "kernelspec": {
      "name": "python",
      "display_name": "Pyolite",
      "language": "python"
    }
  },
  "nbformat_minor": 4,
  "nbformat": 4,
  "cells": [
    {
      "cell_type": "markdown",
      "source": "# My Jupyter Notebook on IBM Watson Studio",
      "metadata": {}
    },
    {
      "cell_type": "markdown",
      "source": "**Emmanuel Obot** \n\nOccupation: Data Scientist",
      "metadata": {}
    },
    {
      "cell_type": "markdown",
      "source": "*I am interested in data science because it provides a powerful toolkit to extract insights and knowledge from huge amounts of data*",
      "metadata": {}
    },
    {
      "cell_type": "markdown",
      "source": "### The code in Cell 5 is meant to add two numbers together, assign the result to a variable called \"sum\" and print the output.",
      "metadata": {}
    },
    {
      "cell_type": "code",
      "source": "def add(x,y):\n    return x+y\n\nsum = add(28, 35)\n\nprint(sum)",
      "metadata": {
        "trusted": true
      },
      "execution_count": 2,
      "outputs": [
        {
          "name": "stdout",
          "text": "63\n",
          "output_type": "stream"
        }
      ]
    },
    {
      "cell_type": "markdown",
      "source": "***********************************\n\n### Top 2 Programming Languages\n 1. Python\n 2. JavaScript\n \n### A table\n | Language | Popularity |\n| :---: | :---: |\n| Python | #1 |\n| JavaScript | #2 |\n\n~~I hate it when my code doesn't compile.~~\n\n```python\n# This is a Python code block\ndef greet(name):\n    print(\"Hello, \" + name + \"!\")\n    \ngreet(\"World\")\n\n```",
      "metadata": {}
    },
    {
      "cell_type": "code",
      "source": "",
      "metadata": {},
      "execution_count": null,
      "outputs": []
    }
  ]
}
